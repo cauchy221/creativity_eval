{
  "cells": [
    {
      "cell_type": "code",
      "execution_count": 11,
      "metadata": {
        "id": "gKLX1ANue_5X"
      },
      "outputs": [],
      "source": [
        "!pip install openai==0.28"
      ]
    },
    {
      "cell_type": "code",
      "source": [
        "import json\n",
        "with open('all_finegrained_clean.json') as f:\n",
        "  data = json.load(f)\n",
        "\n",
        "with open('rewrite_prompts_fewshot25.json') as f:\n",
        "  prompts = json.load(f)"
      ],
      "metadata": {
        "id": "r7rHre4orPTn"
      },
      "execution_count": null,
      "outputs": []
    },
    {
      "cell_type": "code",
      "execution_count": 50,
      "metadata": {
        "id": "mm1zFIVBVfB0"
      },
      "outputs": [],
      "source": [
        "cliches = []\n",
        "import random\n",
        "\n",
        "\n",
        "for elem in data:\n",
        "  original = elem['preedit']\n",
        "  finegrained = elem['fine_grained_edits']\n",
        "  k = []\n",
        "  for edit in finegrained:\n",
        "    if edit['categorization']=='Cliche':\n",
        "      k.append([edit['originalText'],edit['editedText']])\n",
        "  if len(k)>0:\n",
        "    random.shuffle(k)\n",
        "    cliches.append({'id': elem['id'],'paragraph': original, 'edits': k })\n",
        "\n",
        "random.shuffle(cliches)"
      ]
    },
    {
      "cell_type": "markdown",
      "metadata": {
        "id": "N2DKujRahCOQ"
      },
      "source": []
    },
    {
      "cell_type": "code",
      "execution_count": 51,
      "metadata": {
        "colab": {
          "base_uri": "https://localhost:8080/"
        },
        "id": "LBVuwon1ZDEm",
        "outputId": "cae19f71-d03c-42e0-a06d-d6ed339fa288"
      },
      "outputs": [
        {
          "output_type": "stream",
          "name": "stdout",
          "text": [
            "Original: Yet, in that moment, surrounded by friends and the comforting clutter of Herb's kitchen, our uncertainties seemed manageable, even temporary.\n",
            "Predicted: Surrounded by friends and the comforting clutter of Herb's kitchen, our uncertainties felt less overwhelming.\n",
            "Gold: Even with all the existing uneasiness, this precious communion between friends, in Herb's well-loved space, made everything else seem manageable - even if it was only temporary relief. \n",
            "\n",
            "\n",
            "Original: was grappling with my own doubts, about my writing and my place in this small town.\n",
            "Predicted: was struggling silently with self-doubt, about my writing and my place in this small town.\n",
            "Gold: nursed my own doubts and insecurities about my writing, which had felt stunted ever since moving to this small town. \n",
            "\n",
            "\n"
          ]
        }
      ],
      "source": [
        "import openai\n",
        "import ast\n",
        "import json\n",
        "import re\n",
        "\n",
        "openai.api_key = 'sk-proj-cBs3XbtEoUXzWIslBalRT3BlbkFJgRqyiSp9eDVbQgkihoPo'\n",
        "\n",
        "def extract_text_within_quotes(text):\n",
        "    match = re.search(r'\"(.*?)\"', text)\n",
        "    if match:\n",
        "        return match.group(1)\n",
        "    return \"\"\n",
        "\n",
        "arr = []\n",
        "c = 0\n",
        "\n",
        "cliche_prompt = prompts['cliche_prompt']\n",
        "\n",
        "for i in range(len(cliches)):\n",
        "  paragraph = cliches[i]['paragraph']\n",
        "  if paragraph in cliche_prompt:\n",
        "    continue\n",
        "  for elem in cliches[i]['edits']:\n",
        "    x = paragraph.replace(elem[0].strip().replace('\\n',''),'<span>'+elem[0].strip().replace('\\n','')+'</span>')\n",
        "    prefix = cliche_prompt+'\\n'+'Example '+str(26)+'\\n\\n'+'Paragraph: '+x+'\\n'+'Original Span: \"'+elem[0]+'\"\\n'+'Edited Span: '\n",
        "    completion = openai.ChatCompletion.create(model=\"gpt-4o\",messages=[{\"role\": \"system\", \"content\": \"You are an editor\"}, {\"role\": \"user\", \"content\": prefix}])\n",
        "    response =  completion['choices'][0]['message']['content'].strip()\n",
        "    while response[0]!='\"' and response[-1]!='\"':\n",
        "      completion = openai.ChatCompletion.create(model=\"gpt-4o\",messages=[{\"role\": \"system\", \"content\": \"You are an editor\"}, {\"role\": \"user\", \"content\": prefix}])\n",
        "      response =  completion['choices'][0]['message']['content'].strip().replace(\" Edited Span: \",'')\n",
        "    print(\"Original:\",elem[0])\n",
        "    print(\"Predicted:\",extract_text_within_quotes(response))\n",
        "    print(\"Gold:\",elem[1])\n",
        "    print('\\n')\n",
        "    c = c+1\n",
        "  if c>1:\n",
        "    break\n"
      ]
    },
    {
      "cell_type": "code",
      "execution_count": 47,
      "metadata": {
        "id": "J6CLUMFNt3LH"
      },
      "outputs": [],
      "source": [
        "exposition = []\n",
        "import random\n",
        "\n",
        "\n",
        "for elem in data:\n",
        "  original = elem['preedit']\n",
        "  finegrained = elem['fine_grained_edits']\n",
        "  k = []\n",
        "  for edit in finegrained:\n",
        "    if edit['categorization']=='Unnecessary/Redundant Exposition':\n",
        "      k.append([edit['originalText'],edit['editedText']])\n",
        "  if len(k)>0:\n",
        "    random.shuffle(k)\n",
        "    exposition.append({'id': elem['id'],'paragraph': original, 'edits': k })\n",
        "\n",
        "random.shuffle(exposition)"
      ]
    },
    {
      "cell_type": "code",
      "execution_count": 48,
      "metadata": {
        "colab": {
          "base_uri": "https://localhost:8080/"
        },
        "id": "rMAwMkuW94vQ",
        "outputId": "13030d97-3e94-4ec1-ba10-e0abd6eace49"
      },
      "outputs": [
        {
          "output_type": "stream",
          "name": "stdout",
          "text": [
            "Original: As Oghi watched his mother-in-law, Mrs. Kim, he felt a subtle sense of unease settle in the pit of his stomach.\n",
            "Predicted: Oghi felt a subtle unease watching his mother-in-law, Mrs. Kim.\n",
            "Gold: Oghi watched his mother-in-law Mrs. Kim with heightening unease. \n",
            "\n",
            "\n",
            "Original: In that moment, \n",
            "Predicted: In that\n",
            "Gold:  \n",
            "\n",
            "\n"
          ]
        }
      ],
      "source": [
        "import openai\n",
        "import ast\n",
        "import json\n",
        "import re\n",
        "\n",
        "openai.api_key = 'sk-proj-cBs3XbtEoUXzWIslBalRT3BlbkFJgRqyiSp9eDVbQgkihoPo'\n",
        "\n",
        "def extract_text_within_quotes(text):\n",
        "    match = re.search(r'\"(.*?)\"', text)\n",
        "    if match:\n",
        "        return match.group(1)\n",
        "    return \"\"\n",
        "\n",
        "arr = []\n",
        "c = 0\n",
        "\n",
        "exposition_prompt = prompts['exposition_prompt']\n",
        "\n",
        "for i in range(len(exposition)):\n",
        "  paragraph = exposition[i]['paragraph']\n",
        "  if paragraph in exposition_prompt:\n",
        "    continue\n",
        "  for elem in exposition[i]['edits']:\n",
        "    x = paragraph.replace(elem[0].strip().replace('\\n',''),'<span>'+elem[0].strip().replace('\\n','')+'</span>')\n",
        "    prefix = exposition_prompt+'\\n'+'Example '+str(26)+'\\n\\n'+'Paragraph: '+x+'\\n'+'Original Span: \"'+elem[0]+'\"\\n'+'Edited Span: '\n",
        "    completion = openai.ChatCompletion.create(model=\"gpt-4o\",messages=[{\"role\": \"system\", \"content\": \"You are an editor\"}, {\"role\": \"user\", \"content\": prefix}])\n",
        "    response =  completion['choices'][0]['message']['content'].strip()\n",
        "    while response[0]!='\"' and response[-1]!='\"':\n",
        "      completion = openai.ChatCompletion.create(model=\"gpt-4o\",messages=[{\"role\": \"system\", \"content\": \"You are an editor\"}, {\"role\": \"user\", \"content\": prefix}])\n",
        "      response =  completion['choices'][0]['message']['content'].strip().replace(\" Edited Span: \",'')\n",
        "    print(\"Original:\",elem[0])\n",
        "    print(\"Predicted:\",extract_text_within_quotes(response))\n",
        "    print(\"Gold:\",elem[1])\n",
        "    print('\\n')\n",
        "    c = c+1\n",
        "  if c>1:\n",
        "    break\n"
      ]
    },
    {
      "cell_type": "code",
      "execution_count": 43,
      "metadata": {
        "id": "H7ubX3VFIneX"
      },
      "outputs": [],
      "source": [
        "lackspecificity = []\n",
        "import random\n",
        "\n",
        "\n",
        "for elem in data:\n",
        "  original = elem['preedit']\n",
        "  finegrained = elem['fine_grained_edits']\n",
        "  k = []\n",
        "  for edit in finegrained:\n",
        "    if edit['categorization']=='Lack of Specificity and Detail':\n",
        "      k.append([edit['originalText'],edit['editedText']])\n",
        "  if len(k)>0:\n",
        "    random.shuffle(k)\n",
        "    lackspecificity.append({'id': elem['id'],'paragraph': original, 'edits': k })\n",
        "\n",
        "random.shuffle(lackspecificity)"
      ]
    },
    {
      "cell_type": "code",
      "execution_count": 44,
      "metadata": {
        "colab": {
          "base_uri": "https://localhost:8080/"
        },
        "id": "k7aaR0vBhQGA",
        "outputId": "e8b4eb8b-4391-4b01-d097-dca4176018f1"
      },
      "outputs": [
        {
          "output_type": "stream",
          "name": "stdout",
          "text": [
            "Original: speaking in hushed tones\n",
            "Predicted: \"whispering about their impending elopement, glancing nervously around to ensure their secret stayed safe\"\n",
            "Gold: speaking in hushed tones about something either very serious or completely trivial\n",
            "\n",
            "\n",
            "Original: unhurried dance\n",
            "Predicted: \"a slow, synchronized rhythm\"\n",
            "Gold: unhurried dance they'd practiced a thousand times before\n",
            "\n",
            "\n",
            "Original: punctuating the low murmur of conversation\n",
            "Predicted: \"echoing through the bistro, blending with the clinking of cutlery and the soft hum of background chatter.\"\n",
            "Gold: spilling out into the quiet street beyond\n",
            "\n",
            "\n",
            "Original: pausing occasionally to observe the ebb and flow of life around him\n",
            "Predicted: \"capturing snippets of conversations and the subtle details of the bistro, like the crimson lipstick stain on a coffee cup or the soft sigh of a man reading his newspaper\"\n",
            "Gold: pausing occasionally to observe the ebb and flow of life around him so that he could capture it in a prompt exactly like this one\n",
            "\n",
            "\n",
            "Original: day was winding\n",
            "Predicted: \"day's hustle was calming\"\n",
            "Gold: lunch portion of service was winding\n",
            "\n",
            "\n"
          ]
        }
      ],
      "source": [
        "import openai\n",
        "import ast\n",
        "import json\n",
        "import re\n",
        "openai.api_key = 'sk-proj-cBs3XbtEoUXzWIslBalRT3BlbkFJgRqyiSp9eDVbQgkihoPo'\n",
        "\n",
        "def trim_after_quotes(text):\n",
        "    match = re.search(r'\".*\"$', text)\n",
        "    if match:\n",
        "        return text[:match.end()].rstrip()\n",
        "    return text\n",
        "\n",
        "arr = []\n",
        "c = 0\n",
        "\n",
        "specificity_prompt = prompts['specificity_prompt']\n",
        "\n",
        "for i in range(len(lackspecificity)):\n",
        "  paragraph = lackspecificity[i]['paragraph']\n",
        "  if paragraph in specificity_prompt:\n",
        "    continue\n",
        "  for elem in lackspecificity[i]['edits']:\n",
        "    x = paragraph.replace(elem[0].strip().replace('\\n',''),'<span>'+elem[0].strip().replace('\\n','')+'</span>')\n",
        "    prefix = specificity_prompt+'\\n'+'Example '+str(26)+'\\n\\n'+'Paragraph: '+x+'\\n'+'Original Span: \"'+elem[0]+'\"\\n'+'Edited Span: '\n",
        "    completion = openai.ChatCompletion.create(model=\"gpt-4o\",messages=[{\"role\": \"system\", \"content\": \"You are an editor\"}, {\"role\": \"user\", \"content\": prefix}])\n",
        "    response =  completion['choices'][0]['message']['content'].strip().replace(\" Edited Span: \",'')\n",
        "    while response[0]!='\"' and response[-1]!='\"':\n",
        "      completion = openai.ChatCompletion.create(model=\"gpt-4o\",messages=[{\"role\": \"system\", \"content\": \"You are an editor\"}, {\"role\": \"user\", \"content\": prefix}])\n",
        "      response =  completion['choices'][0]['message']['content'].strip().replace(\" Edited Span: \",'')\n",
        "    print(\"Original:\",elem[0])\n",
        "    print(\"Predicted:\",trim_after_quotes(response))\n",
        "    print(\"Gold:\",elem[1])\n",
        "    print('\\n')\n",
        "    c=c+1\n",
        "  if c>1:\n",
        "    break"
      ]
    },
    {
      "cell_type": "code",
      "execution_count": 32,
      "metadata": {
        "id": "9mudrUy9qSUM"
      },
      "outputs": [],
      "source": [
        "poorsentence = []\n",
        "import random\n",
        "\n",
        "\n",
        "for elem in data:\n",
        "  original = elem['preedit']\n",
        "  finegrained = elem['fine_grained_edits']\n",
        "  k = []\n",
        "  for edit in finegrained:\n",
        "    if edit['categorization']=='Poor Sentence Structure':\n",
        "      k.append([edit['originalText'],edit['editedText']])\n",
        "  if len(k)>0:\n",
        "    random.shuffle(k)\n",
        "    poorsentence.append({'id': elem['id'],'paragraph': original, 'edits': k })\n",
        "\n",
        "random.shuffle(poorsentence)"
      ]
    },
    {
      "cell_type": "code",
      "source": [
        "import openai\n",
        "import ast\n",
        "import json\n",
        "import re\n",
        "openai.api_key = 'sk-proj-cBs3XbtEoUXzWIslBalRT3BlbkFJgRqyiSp9eDVbQgkihoPo'\n",
        "\n",
        "def trim_after_quotes(text):\n",
        "    match = re.search(r'\".*\"$', text)\n",
        "    if match:\n",
        "        return text[:match.end()].rstrip()\n",
        "    return text\n",
        "\n",
        "arr = []\n",
        "c = 0\n",
        "poorsentence_prompt = prompts['poorsentence_prompt']\n",
        "\n",
        "for i in range(len(poorsentence)):\n",
        "  paragraph = poorsentence[i]['paragraph']\n",
        "  if paragraph in poorsentence_prompt:\n",
        "    continue\n",
        "  for elem in poorsentence[i]['edits']:\n",
        "    x = paragraph.replace(elem[0].strip().replace('\\n',''),'<span>'+elem[0].strip().replace('\\n','')+'</span>')\n",
        "    prefix = poorsentence_prompt+'\\n'+'Example '+str(26)+'\\n\\n'+'Paragraph: '+x+'\\n'+'Original Span: \"'+elem[0]+'\"\\n'+'Edited Span: '\n",
        "    completion = openai.ChatCompletion.create(model=\"gpt-4o\",messages=[{\"role\": \"system\", \"content\": \"You are an editor\"}, {\"role\": \"user\", \"content\": prefix}])\n",
        "    response =  completion['choices'][0]['message']['content'].strip().replace(\" Edited Span: \",'')\n",
        "    while response[0]!='\"' and response[-1]!='\"':\n",
        "      completion = openai.ChatCompletion.create(model=\"gpt-4o\",messages=[{\"role\": \"system\", \"content\": \"You are an editor\"}, {\"role\": \"user\", \"content\": prefix}])\n",
        "      response =  completion['choices'][0]['message']['content'].strip().replace(\" Edited Span: \",'')\n",
        "    print(\"Original:\",elem[0])\n",
        "    print(\"Predicted:\",trim_after_quotes(response))\n",
        "    print(\"Gold:\",elem[1])\n",
        "    print('\\n')\n",
        "    c=c+1\n",
        "  if c>1:\n",
        "    break"
      ],
      "metadata": {
        "colab": {
          "base_uri": "https://localhost:8080/"
        },
        "id": "U7Z2gbFynwWB",
        "outputId": "2a2105a1-e0a3-4dc1-e383-8374b90f3d98"
      },
      "execution_count": 33,
      "outputs": [
        {
          "output_type": "stream",
          "name": "stdout",
          "text": [
            "Original: , knowing that the truth might hurt but lies would corrode them from within.\n",
            "Predicted: \". She knew the truth might hurt, but lies would surely corrode their relationship from within.\"\n",
            "Gold: : she acknowledged that the truth might hurt, but its absence would corrode them from within. \n",
            "\n",
            "\n",
            "Original: finding solace in ideas rather than people.\n",
            "Predicted: \"seeking comfort in ideas over human connection.\"\n",
            "Gold: perhaps finding more comfort in ideas than in people. \n",
            "\n",
            "\n",
            "Original: found himself pondering Georgie's intelligence, recognizing it as both a blessing and a burden.\n",
            "Predicted: \"often pondered Georgie's intelligence, seeing it as both a blessing and a burden.\"\n",
            "Gold: re-evaluated the peculiarities of Georgie's intelligence, finding it both a blessing and a burden.\n",
            "\n",
            "\n",
            "Original: fearing that without it, his intelligence might become a cage rather than a key to unlock the world's possibilities.\n",
            "Predicted: \"worrying that without it, Georgie's intelligence might end up confining him rather than opening doors to the world's opportunities.\"\n",
            "Gold: Without a balance, he feared that Georgie's world would become increasingly cage-like, rather than fueled by wonder and possibility. \n",
            "\n",
            "\n"
          ]
        }
      ]
    },
    {
      "cell_type": "code",
      "source": [
        "purpleprose = []\n",
        "import random\n",
        "\n",
        "\n",
        "for elem in data:\n",
        "  original = elem['preedit']\n",
        "  finegrained = elem['fine_grained_edits']\n",
        "  k = []\n",
        "  for edit in finegrained:\n",
        "    if edit['categorization']=='Purple Prose (Unnecessary ornamental and overly verbose)':\n",
        "      k.append([edit['originalText'],edit['editedText']])\n",
        "  if len(k)>0:\n",
        "    random.shuffle(k)\n",
        "    purpleprose.append({'id': elem['id'],'paragraph': original, 'edits': k })\n",
        "\n",
        "random.shuffle(purpleprose)"
      ],
      "metadata": {
        "id": "W4rr4MseMh2Q"
      },
      "execution_count": 28,
      "outputs": []
    },
    {
      "cell_type": "code",
      "source": [
        "import openai\n",
        "import ast\n",
        "import json\n",
        "import re\n",
        "openai.api_key = 'sk-proj-cBs3XbtEoUXzWIslBalRT3BlbkFJgRqyiSp9eDVbQgkihoPo'\n",
        "\n",
        "def trim_after_quotes(text):\n",
        "    match = re.search(r'\".*\"$', text)\n",
        "    if match:\n",
        "        return text[:match.end()].rstrip()\n",
        "    return text\n",
        "\n",
        "arr = []\n",
        "c = 0\n",
        "\n",
        "purpleprose_prompt = prompts['purpleprose_prompt']\n",
        "for i in range(len(purpleprose)):\n",
        "  paragraph = purpleprose[i]['paragraph']\n",
        "  if paragraph in purpleprose_prompt:\n",
        "    continue\n",
        "  for elem in purpleprose[i]['edits']:\n",
        "    x = paragraph.replace(elem[0].strip().replace('\\n',''),'<span>'+elem[0].strip().replace('\\n','')+'</span>')\n",
        "    prefix = purpleprose_prompt+'\\n'+'Example '+str(26)+'\\n\\n'+'Paragraph: '+x+'\\n'+'Original Span: \"'+elem[0]+'\"\\n'+'Edited Span: '\n",
        "    completion = openai.ChatCompletion.create(model=\"gpt-4o\",messages=[{\"role\": \"system\", \"content\": \"You are an editor\"}, {\"role\": \"user\", \"content\": prefix}])\n",
        "    response =  completion['choices'][0]['message']['content'].strip().replace(\" Edited Span: \",'')\n",
        "    while response[0]!='\"' and response[-1]!='\"':\n",
        "      completion = openai.ChatCompletion.create(model=\"gpt-4o\",messages=[{\"role\": \"system\", \"content\": \"You are an editor\"}, {\"role\": \"user\", \"content\": prefix}])\n",
        "      response =  completion['choices'][0]['message']['content'].strip().replace(\" Edited Span: \",'')\n",
        "    print(\"Original:\",elem[0])\n",
        "    print(\"Predicted:\",trim_after_quotes(response))\n",
        "    print(\"Gold:\",elem[1])\n",
        "    print('\\n')\n",
        "    c=c+1\n",
        "  if c>1:\n",
        "    break"
      ],
      "metadata": {
        "colab": {
          "base_uri": "https://localhost:8080/"
        },
        "id": "nAJqqpPrZi9X",
        "outputId": "077c586b-c5f6-4ef2-bd27-8bc244584240"
      },
      "execution_count": 29,
      "outputs": [
        {
          "output_type": "stream",
          "name": "stdout",
          "text": [
            "Original: Her fingers, usually so steady, now trembled like leaves, betraying the exhaustion and fear that had been building inside her\n",
            "Predicted: \"Her fingers were trembling, betraying how exhausted and scared she felt\"\n",
            "Gold: He felt his mother's hand on his, and in the touch was her overwhelming love\n",
            "\n",
            "\n",
            "Original: Sophie realized that the baby's seemingly random movements mirrored the way early ideas form and fade, without structure or intent. She considered how, over time, these motions would become purposeful, just as the mind learns to shape and direct its thoughts.\n",
            "Predicted: \"Considering how ideas form and fade, Sophie imagined that the baby's movements would become increasingly purposeful and controlled, as would the baby's mind.\"\n",
            "Gold: Considering how ideas form and fade, Sophie imagined that the baby's movements would become increasingly purposeful and controlled, as would the baby's mind. \n",
            "\n",
            "\n"
          ]
        }
      ]
    },
    {
      "cell_type": "code",
      "source": [
        "wordchoice = []\n",
        "import random\n",
        "\n",
        "\n",
        "for elem in data:\n",
        "  original = elem['preedit']\n",
        "  finegrained = elem['fine_grained_edits']\n",
        "  k = []\n",
        "  for edit in finegrained:\n",
        "    if edit['categorization']=='Awkward Word Choice and Phrasing':\n",
        "      k.append([edit['originalText'],edit['editedText']])\n",
        "  if len(k)>0:\n",
        "    random.shuffle(k)\n",
        "    wordchoice.append({'id': elem['id'],'paragraph': original, 'edits': k })\n",
        "\n",
        "random.shuffle(wordchoice)"
      ],
      "metadata": {
        "id": "SatR3w8gUQ9q"
      },
      "execution_count": 12,
      "outputs": []
    },
    {
      "cell_type": "code",
      "source": [
        "import openai\n",
        "import ast\n",
        "import json\n",
        "import re\n",
        "openai.api_key = 'sk-proj-cBs3XbtEoUXzWIslBalRT3BlbkFJgRqyiSp9eDVbQgkihoPo'\n",
        "\n",
        "def trim_after_quotes(text):\n",
        "    match = re.search(r'\".*\"$', text)\n",
        "    if match:\n",
        "        return text[:match.end()].rstrip()\n",
        "    return text\n",
        "\n",
        "arr = []\n",
        "c = 0\n",
        "\n",
        "wordchoice_prompt = prompts['wordchoice_prompt']\n",
        "for i in range(len(wordchoice)):\n",
        "  paragraph = wordchoice[i]['paragraph']\n",
        "  if paragraph in wordchoice_prompt:\n",
        "    continue\n",
        "  for elem in wordchoice[i]['edits']:\n",
        "    x = paragraph.replace(elem[0].strip().replace('\\n',''),'<span>'+elem[0].strip().replace('\\n','')+'</span>')\n",
        "    prefix = wordchoice_prompt+'\\n'+'Example '+str(26)+'\\n\\n'+'Paragraph: '+x+'\\n'+'Original Span: \"'+elem[0]+'\"\\n'+'Edited Span: '\n",
        "    completion = openai.ChatCompletion.create(model=\"gpt-4o\",messages=[{\"role\": \"system\", \"content\": \"You are an editor\"}, {\"role\": \"user\", \"content\": prefix}])\n",
        "    response =  completion['choices'][0]['message']['content'].strip().replace(\" Edited Span: \",'')\n",
        "    while response[0]!='\"' and response[-1]!='\"':\n",
        "      completion = openai.ChatCompletion.create(model=\"gpt-4o\",messages=[{\"role\": \"system\", \"content\": \"You are an editor\"}, {\"role\": \"user\", \"content\": prefix}])\n",
        "      response =  completion['choices'][0]['message']['content'].strip().replace(\" Edited Span: \",'')\n",
        "    print(\"Original:\",elem[0])\n",
        "    print(\"Predicted:\",trim_after_quotes(response))\n",
        "    print(\"Gold:\",elem[1])\n",
        "    print('\\n')\n",
        "    c=c+1\n",
        "  if c>1:\n",
        "    break"
      ],
      "metadata": {
        "colab": {
          "base_uri": "https://localhost:8080/"
        },
        "id": "88sUtl5z4Zi9",
        "outputId": "0119eeb4-b058-4117-ea8b-c9ab20055e0e"
      },
      "execution_count": 24,
      "outputs": [
        {
          "output_type": "stream",
          "name": "stdout",
          "text": [
            "Original: warm, golden light\n",
            "Predicted: \"warm light\"\n",
            "Gold: warm light\n",
            "\n",
            "\n",
            "Original: crispy fish and chips\n",
            "Predicted: \"golden fish and chips\"\n",
            "Gold: golden fish and chips\n",
            "\n",
            "\n"
          ]
        }
      ]
    }
  ],
  "metadata": {
    "colab": {
      "provenance": []
    },
    "kernelspec": {
      "display_name": "Python 3",
      "name": "python3"
    },
    "language_info": {
      "name": "python"
    }
  },
  "nbformat": 4,
  "nbformat_minor": 0
}