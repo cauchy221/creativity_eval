{
 "cells": [
  {
   "cell_type": "code",
   "execution_count": 2,
   "metadata": {},
   "outputs": [
    {
     "name": "stdout",
     "output_type": "stream",
     "text": [
      "1057\n",
      "Counter({'test': 911, 'validation': 146})\n",
      "['Awkward Word Choice and Phrasing', 'Poor Sentence Structure', 'Unnecessary/Redundant Exposition', 'Cliche', 'Lack of Specificity and Detail', 'Purple Prose', 'Tense Inconsistency', 'Punctuation']\n"
     ]
    }
   ],
   "source": [
    "from collections import Counter\n",
    "import json, random\n",
    "\n",
    "with open(\"all_finegrained_clean.json\", \"r\") as f:\n",
    "    data = json.load(f)\n",
    "\n",
    "edit_type_counts = Counter()\n",
    "for d in data:\n",
    "    for edit in d[\"fine_grained_edits\"]:\n",
    "        edit[\"categorization\"] = edit[\"categorization\"].replace(\"/ \", \"/\").replace(\" (Unnecessary ornamental and overly verbose)\", \"\")\n",
    "        edit_type_counts[edit[\"categorization\"]] += 1\n",
    "\n",
    "final_categories = [cat for cat, count in edit_type_counts.most_common() if count >= 7]\n",
    "data_validation = [d for d in data if d[\"split\"] == \"validation\"]\n",
    "\n",
    "print(len(data))\n",
    "print(Counter([d[\"split\"] for d in data]))\n",
    "print(final_categories)"
   ]
  },
  {
   "cell_type": "markdown",
   "metadata": {},
   "source": [
    "# 1. Create the Detection Prompt"
   ]
  },
  {
   "cell_type": "markdown",
   "metadata": {},
   "source": [
    "## V1"
   ]
  },
  {
   "cell_type": "code",
   "execution_count": 10,
   "metadata": {},
   "outputs": [],
   "source": [
    "def generate_detection_annotation(paragraph, problematic_span, words_before=6, words_after=6):\n",
    "    start = paragraph.find(problematic_span)\n",
    "    if start == -1 or paragraph.count(problematic_span) > 1:\n",
    "        return None\n",
    "    end = start + len(problematic_span)\n",
    "    words_before_matched = 0\n",
    "\n",
    "    while start > 0 and words_before_matched < words_before:\n",
    "        if paragraph[start-1] == \" \":\n",
    "            words_before_matched += 1\n",
    "        start -= 1\n",
    "    words_after_matched = 0\n",
    "    while end < len(paragraph) and words_after_matched < words_after:\n",
    "        if paragraph[end] == \" \":\n",
    "            words_after_matched += 1\n",
    "        end += 1\n",
    "\n",
    "    padded_line = paragraph[start:end]\n",
    "    padded_line = padded_line.replace(problematic_span, f\"**{problematic_span}**\")\n",
    "    return padded_line\n",
    "\n",
    "for NUM_FEWSHOTS in [5, 25]:\n",
    "    prompt_detection = f\"\"\"You are given a paragraph of writing, and your goal is to provide feedback by selecting spans of text in the writing that could be improved, and assign each problematic span to an error category. Below, we list the {len(final_categories)} error categories that you can choose from, and provide a maximum of {NUM_FEWSHOTS} example problematic spans in text for that category. In each example, the problematic span is highlighted using ** at the start and end.\"\"\"\n",
    "\n",
    "    for i, category in enumerate(final_categories):\n",
    "        prompt_detection += f\"\\n\\nCategory {i+1}: '{category}':\\n\"\n",
    "        examples = [(d, edit) for d in data_validation for edit in d[\"fine_grained_edits\"] if edit[\"categorization\"] == category]\n",
    "        random.shuffle(examples)\n",
    "        num_selected = 0\n",
    "        for d, example in examples[:NUM_FEWSHOTS]:\n",
    "            paragraph = d[\"preedit\"]\n",
    "            problematic_span = example[\"originalText\"]\n",
    "            detection_line = generate_detection_annotation(paragraph, problematic_span)\n",
    "            if detection_line is None:\n",
    "                continue\n",
    "            prompt_detection += f\"   Example {num_selected+1}: {detection_line}\\n\"\n",
    "\n",
    "            num_selected += 1\n",
    "\n",
    "    categories_STR = \"|\".join(final_categories)\n",
    "\n",
    "    format_STR = \"\"\"{\"problematic_spans\":\n",
    "[\n",
    "    {\"span\": \"...\", \"category\": \"[[CATEGORIES]]\"},\n",
    "    ...\n",
    "]\n",
    "}\"\"\".replace(\"[[CATEGORIES]]\", categories_STR)\n",
    "\n",
    "    prompt_detection += f\"\"\"You must now provide feedback on the paragraph given below. Your feedback should follow the following JSON format:\n",
    "{format_STR}\n",
    "\n",
    "Rules:\n",
    "- [Number of Spans] You can provide feedback on multiple spans, and multiple spans can have the same category.\n",
    "- [Span must be verbatim] The span you select must be verbatim from the paragraph, otherwise, the feedback will not be provided to the user.\n",
    "- [No Overlap] Spans should not overlap, and one span should not include the other.\n",
    "- [Single Category] Each span should have exactly one category from the {len(final_categories)} categories listed above.\n",
    "- [Diverse Edit Categories] Try to select spans that cover a diverse set of categories.\n",
    "\n",
    "Paragraph:\n",
    "[[PARAGRAPH]]\"\"\"\n",
    "\n",
    "prompt_detection += '\\n\\nYour answer must start with `{\"problematic_spans\":`'\n",
    "\n",
    "with open(f\"prompts/detection_v1_fs{NUM_FEWSHOTS}.txt\", \"w\") as f:\n",
    "    f.write(prompt_detection)"
   ]
  },
  {
   "cell_type": "markdown",
   "metadata": {},
   "source": [
    "## V2"
   ]
  },
  {
   "cell_type": "code",
   "execution_count": 3,
   "metadata": {},
   "outputs": [],
   "source": [
    "import json, random\n",
    "\n",
    "for NUM_FEWSHOTS in [2]:\n",
    "    prompt_detection = f\"\"\"You are given a paragraph of writing, and your goal is to provide feedback by selecting spans of text in the writing that could be improved, and assign each problematic span to an error category. Below, we list the 7 error categories that you can choose from.\n",
    "\n",
    "You are also provided {NUM_FEWSHOTS} examples of paragraphs that were annotated by professional writers, which you can use to better understand the task and the error categories.\n",
    "\n",
    "Error Categories:\n",
    "- \"Awkward Word Choice and Phrasing\": Suggestions for better word choices or more precise phrasing to enhance clarity and readability.\n",
    "- \"Cliche\": The use of hackneyed phrases or overly common imagery that lack originality or depth.\n",
    "- \"Poor Sentence Structure\": Feedback on the construction of sentences, recommending changes for better flow, clarity, or impact.\n",
    "- \"Unnecessary/Redundant Exposition\": Redundant or non-essential parts of the text that could be removed/rephrased for conciseness.\n",
    "- \"Lack of Specificity and Detail\": Need for more concrete details or specific information to enrich the text and make it more engaging.\n",
    "- \"Purple Prose\": Identifying parts of the text that are seen as unnecessary ornamental and overly verbose.\n",
    "- \"Tense Consistency\": Comments pointing out inconsistencies in verb tense that need to be addressed for uniformity.\n",
    "\n",
    "Few-shot Examples:\n",
    "\"\"\"\n",
    "\n",
    "    random.shuffle(data_validation)\n",
    "\n",
    "    for i, d in enumerate(data_validation[:NUM_FEWSHOTS]):\n",
    "\n",
    "        input_text = d[\"preedit\"]\n",
    "        output = {\"problematic_spans\": [{\"span\": edit[\"originalText\"], \"category\": edit[\"categorization\"]} for edit in d[\"fine_grained_edits\"]]}\n",
    "        output_str = json.dumps(output)\n",
    "\n",
    "        prompt_detection += f\"\\n\\nExample {i+1}:\\nInput Text:\\n{input_text}\\n\\nOutput:\\n{output_str}\\n\"\n",
    "\n",
    "    prompt_detection += \"\"\"You must now provide feedback on the paragraph given below. Your feedback should follow the JSON format provided in the examples above.\n",
    "\n",
    "Rules:\n",
    "- [Number of Spans] You can provide feedback on multiple spans, and multiple spans can have the same category.\n",
    "- [Span must be verbatim] The span you select must be verbatim from the paragraph, otherwise, the feedback will not be provided to the user.\n",
    "- [No Overlap] Spans should not overlap, and one span should not include the other.\n",
    "- [Single Category] Each span should have exactly one category from the categories listed above.\n",
    "\n",
    "Paragraph:\n",
    "[[PARAGRAPH]]\n",
    "\n",
    "Your answer must start with `{\"problematic_spans\":`\n",
    "\"\"\"\n",
    "\n",
    "    # print(prompt_detection)\n",
    "    with open(f\"prompts/detection_v2_fs{NUM_FEWSHOTS}.txt\", \"w\") as f:\n",
    "        f.write(prompt_detection)"
   ]
  },
  {
   "cell_type": "markdown",
   "metadata": {},
   "source": [
    "# 2. Create the Suggestion Prompt"
   ]
  },
  {
   "cell_type": "code",
   "execution_count": 14,
   "metadata": {},
   "outputs": [],
   "source": [
    "# create one prompt for each category\n",
    "NUM_FEWSHOTS = 20\n",
    "\n",
    "prompt_category = \"\"\"You are given a paragraph of writing, and spans that have been identified as problematic, according the the category '[[CATEGORY]]'. Your goal is to propose a revision for each span that corrects the issue.\n",
    "\n",
    "You should take inspiration from the following [[NUM_FEWSHOTS]] examples of problematic spans, and how they were each revised.\n",
    "\n",
    "Examples:\n",
    "[[EXAMPLES]]\n",
    "\n",
    "Now perform the task for the paragraph given below, and the spans that have been identified as problematic.\n",
    "\n",
    "Paragraph:\n",
    "[[PARAGRAPH]]\n",
    "\n",
    "Identified Spans:\n",
    "[[SPANS]]\n",
    "\n",
    "Rules:\n",
    "- [Format] You should output your revision for each span in the following JSON format:\n",
    "{\"revisions\":\n",
    "    [\n",
    "        {\"span_id\": \"...\", \"revision\": \"...\"},\n",
    "        ...\n",
    "    ]\n",
    "}\n",
    "- [Span ID] The span_id should match the span_id provided in the \"Identified Spans\" section.\n",
    "- [Single Revision] You must provide one revision suggestion for each span in the \"Identified Spans\" section.\n",
    "- [Paragraph Appropriateness] Your revision should be appropriate and fit within the paragraph given.\"\"\"\n",
    "\n",
    "for category in final_categories:\n",
    "    prompt_revise_category = prompt_category.replace(\"[[CATEGORY]]\", category).replace(\"[[NUM_FEWSHOTS]]\", str(NUM_FEWSHOTS))\n",
    "    examples_STR = \"\"\n",
    "    examples = [(d, edit) for d in data for edit in d[\"fine_grained_edits\"] if edit[\"final_categorization\"] == category]\n",
    "    \n",
    "    random.shuffle(examples)\n",
    "\n",
    "    for i, (d, example) in enumerate(examples[:NUM_FEWSHOTS]):\n",
    "        paragraph = d[\"preedit\"]\n",
    "        context = generate_detection_annotation(paragraph, example[\"originalText\"])\n",
    "        if context is None:\n",
    "            continue\n",
    "        problematic_span = example[\"originalText\"]\n",
    "        revised_span = example[\"editedText\"]\n",
    "        examples_STR += f\"Example {i+1}:\\n\"\"\"\n",
    "        examples_STR += 'Context: '+context+'\\n'\n",
    "        examples_STR += 'Input: {\"span_id\": '+str(i+1)+', \"span\": \"'+problematic_span+'\"}\\n'\n",
    "        examples_STR += 'Output: {\"span_id\": '+str(i+1)+', \"revision\": \"'+revised_span+'\"}\\n\\n'\n",
    "\n",
    "    prompt_revise_category = prompt_revise_category.replace(\"[[EXAMPLES]]\", examples_STR)\n",
    "\n",
    "    # print(\"===================\")\n",
    "    # print(prompt_revise_category)\n",
    "    clean_cat = category.replace(' ', '_').replace(\"/\", \"_\")\n",
    "    with open(f\"prompts/revision_{clean_cat}_v1.txt\", \"w\") as f:\n",
    "        f.write(prompt_revise_category)"
   ]
  },
  {
   "cell_type": "markdown",
   "metadata": {},
   "source": [
    "# 3. Run the System"
   ]
  },
  {
   "cell_type": "code",
   "execution_count": 2,
   "metadata": {},
   "outputs": [
    {
     "name": "stdout",
     "output_type": "stream",
     "text": [
      "-------- LLM Engine: gpt-4o --------\n",
      " Eli jolted awake, gasping and drenched in sweat, the\u001b[1;31mechoes\u001b[0m\u001b[1;32mremnants\u001b[0m of the nightmare still\u001b[1;31mgnawing at\u001b[0m\u001b[1;32mlingering in\u001b[0m his\u001b[1;31mmind.\u001b[0m\u001b[1;32mthoughts \u001b[94m[Cliche]\u001b[0m.\u001b[0m The room,\u001b[1;31mbathed in\u001b[0m\u001b[1;32msoftly illuminated by\u001b[0m the\u001b[1;31msoft gray\u001b[0m\u001b[1;32mearly morning\u001b[0m light\u001b[1;31mof dawn,\u001b[0m\u001b[1;32m\u001b[94m[Cliche]\u001b[0m,\u001b[0m felt\u001b[1;31mstifling\u001b[0m\u001b[1;32moppressive \u001b[94m[Word Choice\u001b[0m and\u001b[1;31mconfining,\u001b[0m\u001b[1;32mPhrasing]\u001b[0m,\u001b[0m each shadow a\u001b[1;31mpotential harbinger\u001b[0m\u001b[1;32mreminder\u001b[0m of\u001b[1;31mhis dream's horrors.\u001b[0m\u001b[1;32mthe nightmare \u001b[94m[Purple Prose]\u001b[0m.\u001b[0m Desperate for an anchor, he stumbled to the window, pushing it open to let the brisk morning air clear the fog from his brain. Across the way, Mrs. Dwyer, his elderly neighbor, was watering her potted plants. Her movements were\u001b[1;31ma quiet dance, precise\u001b[0m\u001b[1;32mmoving slowly\u001b[0m and\u001b[1;31munhurried, each step deliberate.\u001b[0m\u001b[1;32mpurposefully \u001b[94m[Purple Prose]\u001b[0m.\u001b[0m The way she tilted each vessel toward the light\u001b[1;31mseemed almost sacred.\u001b[0m\u001b[1;32mlooked graceful \u001b[94m[Purple Prose]\u001b[0m.\u001b[0m Eli watched, mesmerized by her gentle rhythm, the\u001b[1;31msimple act of nurturing life.\u001b[0m\u001b[1;32mdeliberate care she took with each plant \u001b[94m[Cliche]\u001b[0m.\u001b[0m His heartbeat gradually slowed, each breath syncing with the steady stream of water. He closed his eyes, allowing himself to be lulled by the\u001b[1;31mintimacy\u001b[0m\u001b[1;32msimplicity\u001b[0m of her\u001b[1;31mroutine.\u001b[0m\u001b[1;32mroutine \u001b[94m[Purple Prose]\u001b[0m.\u001b[0m Before he knew it, the tension from his dream was a distant memory, replaced with a\u001b[1;32mfragile sense of\u001b[0m calm\u001b[1;31mthat felt both fragile and profound.\u001b[0m\u001b[1;32m\u001b[94m[Purple Prose]\u001b[0m.\u001b[0m\n",
      "-------- LLM Engine: claude3.5-sonnet --------\n",
      " Eli jolted awake, gasping and drenched in sweat, the\u001b[1;31mechoes of the nightmare\u001b[0m\u001b[1;32mnightmare's residue\u001b[0m still\u001b[1;31mgnawing at\u001b[0m\u001b[1;32mclinging to\u001b[0m his\u001b[1;31mmind.\u001b[0m\u001b[1;32mconsciousness \u001b[94m[Cliche]\u001b[0m.\u001b[0m The room, bathed in the soft gray light of dawn, felt stifling and confining,\u001b[1;31meach shadow a potential harbinger of his dream's horrors. Desperate for an anchor,\u001b[0m\u001b[1;32mthe room still felt unsettling \u001b[94m[Purple Prose]\u001b[0m. Seeking clarity, \u001b[94m[Cliche]\u001b[0m\u001b[0m he stumbled to the window, pushing it open to let the brisk morning air clear the fog from his brain. Across the way, Mrs. Dwyer, his elderly neighbor, was watering her potted plants.\u001b[1;31mHer movements were a quiet dance, precise\u001b[0m\u001b[1;32mShe moved carefully\u001b[0m and\u001b[1;31munhurried, each step deliberate. The way she\u001b[0m\u001b[1;32mmethodically. \u001b[94m[Purple Prose]\u001b[0m She\u001b[0m tilted each\u001b[1;31mvessel toward the light seemed almost sacred.\u001b[0m\u001b[1;32mpot to water it thoroughly. \u001b[94m[Purple Prose]\u001b[0m\u001b[0m Eli watched,\u001b[1;31mmesmerized\u001b[0m\u001b[1;32mcaptivated\u001b[0m by her\u001b[1;31mgentle rhythm,\u001b[0m\u001b[1;32mmethodical movements, \u001b[94m[Cliche]\u001b[0m\u001b[0m the simple act of nurturing life. His heartbeat gradually slowed, each breath syncing with the steady stream of water. He closed his eyes,\u001b[1;31mallowing himself to be lulled by the intimacy of\u001b[0m\u001b[1;32mfocusing on\u001b[0m her\u001b[1;31mroutine.\u001b[0m\u001b[1;32mfamiliar routine \u001b[94m[Purple Prose]\u001b[0m.\u001b[0m Before he knew it,\u001b[1;31mthe tension from\u001b[0m his\u001b[1;31mdream was\u001b[0m\u001b[1;32mnightmare faded, giving way to\u001b[0m a\u001b[1;31mdistant memory, replaced with a calm that felt both fragile and profound.\u001b[0m\u001b[1;32mtentative peace. \u001b[94m[Cliche]\u001b[0m\u001b[0m\n",
      "-------- LLM Engine: gemini-1.5-pro --------\n",
      " Eli jolted awake, gasping and drenched in sweat, the echoes of the nightmare still\u001b[1;31mgnawing at his mind.\u001b[0m\u001b[1;32mstill lingering \u001b[94m[Cliche]\u001b[0m.\u001b[0m The room, bathed in the soft gray light of dawn, felt stifling and confining, each shadow\u001b[1;31ma potential harbinger of his dream's horrors.\u001b[0m\u001b[1;32mthreatening \u001b[94m[Purple Prose]\u001b[0m.\u001b[0m Desperate for an anchor, he stumbled to the window, pushing it open to let the brisk morning air\u001b[1;31mclear the fog from his brain.\u001b[0m\u001b[1;32msoothe him \u001b[94m[Cliche]\u001b[0m.\u001b[0m Across the way, Mrs. Dwyer, his elderly neighbor, was watering her potted plants. Her movements were a\u001b[1;31mquiet dance,\u001b[0m\u001b[1;32mquiet,\u001b[0m precise\u001b[1;31mand unhurried, each step deliberate. The way she\u001b[0m\u001b[1;32mdance \u001b[94m[Purple Prose]\u001b[0m. She\u001b[0m tilted each\u001b[1;31mvessel\u001b[0m\u001b[1;32mpot\u001b[0m toward the light\u001b[1;31mseemed almost sacred.\u001b[0m\u001b[1;32m\u001b[94m[Purple Prose]\u001b[0m.\u001b[0m Eli watched, mesmerized by\u001b[1;31mher gentle rhythm,\u001b[0m the simple act of\u001b[1;31mnurturing life.\u001b[0m\u001b[1;32mwatering \u001b[94m[Purple Prose]\u001b[0m.\u001b[0m His heartbeat gradually\u001b[1;31mslowed, each breath syncing with the steady stream of water.\u001b[0m\u001b[1;32mslowed \u001b[94m[Purple Prose]\u001b[0m.\u001b[0m He closed his eyes, allowing himself to be lulled by\u001b[1;31mthe intimacy of\u001b[0m her\u001b[1;31mroutine. Before he knew it,\u001b[0m\u001b[1;32mroutine \u001b[94m[Purple Prose]\u001b[0m. Slowly \u001b[94m[Cliche]\u001b[0m,\u001b[0m the tension from his dream was a distant memory, replaced with\u001b[1;31ma\u001b[0m calm\u001b[1;31mthat felt both fragile and profound.\u001b[0m\u001b[1;32m\u001b[94m[Purple Prose]\u001b[0m.\u001b[0m\n"
     ]
    }
   ],
   "source": [
    "from utils_generate_edits import run_edit_generation, build_revised_paragraph\n",
    "\n",
    "# llm_engine = \"claude3.5-sonnet\"\n",
    "# initial_paragraph = \"\"\"She steps out into the crisp evening air, cigarette in hand. The first drag fills her lungs, menthol mingling with the damp chill. Tendrils of smoke curl around her as her thoughts drift to Shirley, like they always seem to lately. Memories surface - Shirley's crooked smile, her wild hair, the way her eyes crinkled when she laughed. But the good memories are fleeting, replaced by their last fight, the biting words exchanged. She can still see the hurt and anger in Shirley's eyes. The cigarette has burned down to the filter now. She stubs it out and lights another, hoping the nicotine will steady her shaking hands. Standing there, wreathed in smoke and regret, she wonders if they can ever go back to how things were. If too much has been said to salvage the fraying threads of their friendship. The thought makes her chest tighten. Crushing out the cigarette, she shoves her hands in her pockets and heads back inside, Shirley's absence an almost physical ache.\"\"\"\n",
    "initial_paragraph = \"\"\"Eli jolted awake, gasping and drenched in sweat, the echoes of the nightmare still gnawing at his mind. The room, bathed in the soft gray light of dawn, felt stifling and confining, each shadow a potential harbinger of his dream's horrors. Desperate for an anchor, he stumbled to the window, pushing it open to let the brisk morning air clear the fog from his brain. Across the way, Mrs. Dwyer, his elderly neighbor, was watering her potted plants. Her movements were a quiet dance, precise and unhurried, each step deliberate. The way she tilted each vessel toward the light seemed almost sacred. Eli watched, mesmerized by her gentle rhythm, the simple act of nurturing life. His heartbeat gradually slowed, each breath syncing with the steady stream of water. He closed his eyes, allowing himself to be lulled by the intimacy of her routine. Before he knew it, the tension from his dream was a distant memory, replaced with a calm that felt both fragile and profound.\"\"\"\n",
    "# initial_paragraph = \"\"\"Rodney, Leah, and Natalie sat around the kitchen table, each nursing a mug of coffee that had long since gone cold. Rodney leaned back in his chair, his eyes fixed on the ceiling as he listened to Leah's impassioned plea. She spoke of the environmental impact, the disruption to their quiet community, and the potential for increased traffic and noise. Natalie, ever the pragmatist, interjected with questions about the economic benefits and the possibility of improved infrastructure. Rodney remained silent, his thoughts torn between his love for the untouched beauty of their surroundings and the understanding that progress was inevitable. As the discussion grew more heated, Leah's voice took on a sharp edge, her frustration palpable in the way she gripped her mug. Natalie, unperturbed, continued to play devil's advocate, challenging Leah's arguments with a cool, measured tone. Rodney finally spoke, his voice soft but firm, suggesting a compromise—a way to work with the government to minimize the impact while still allowing for growth. Leah and Natalie exchanged glances, their expressions a mix of surprise and contemplation. The tension in the room eased slightly as they considered Rodney's words, each realizing that finding a middle ground might be the only way forward.\"\"\"\n",
    "\n",
    "for llm_engine in [\"gpt-4o\", \"claude3.5-sonnet\", \"gemini-1.5-pro\"]:\n",
    "    print(f\"-------- LLM Engine: {llm_engine} --------\")\n",
    "    edits = run_edit_generation(initial_paragraph, llm_engine=llm_engine, printing=False)\n",
    "\n",
    "    revised_paragraph, revised_paragraph_diff = build_revised_paragraph(initial_paragraph, edits)\n",
    "    \n",
    "    print(revised_paragraph_diff)"
   ]
  }
 ],
 "metadata": {
  "kernelspec": {
   "display_name": "base",
   "language": "python",
   "name": "python3"
  },
  "language_info": {
   "codemirror_mode": {
    "name": "ipython",
    "version": 3
   },
   "file_extension": ".py",
   "mimetype": "text/x-python",
   "name": "python",
   "nbconvert_exporter": "python",
   "pygments_lexer": "ipython3",
   "version": "3.9.7"
  }
 },
 "nbformat": 4,
 "nbformat_minor": 2
}
