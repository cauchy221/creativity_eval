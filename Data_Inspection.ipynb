{
 "cells": [
  {
   "cell_type": "code",
   "execution_count": 11,
   "metadata": {},
   "outputs": [],
   "source": [
    "import json"
   ]
  },
  {
   "cell_type": "markdown",
   "metadata": {},
   "source": [
    "# 1. Loading the stories"
   ]
  },
  {
   "cell_type": "code",
   "execution_count": 47,
   "metadata": {},
   "outputs": [
    {
     "name": "stdout",
     "output_type": "stream",
     "text": [
      "There are 48 stories in the dataset\n",
      "dict_keys(['story_idx', 'story_id', 'story_name', 'plot', 'content'])\n",
      "[story_idx] 0\n",
      "[story_id] 0_GPT3.5\n",
      "[story_name] Maintenance, Hvidovre\n",
      "[plot] A woman experiences a disorienting night in a maternity ward where she encounters other similarly disoriented new mothers, leading to an uncanny mix-up where she leaves the hospital with a baby that she realizes is not her own, yet accepts the situation with an inexplicable sense of happiness.\n",
      "[content] The clock struck midnight as Lily stumbled through the sterile corridors of the maternity ward. Exha...\n"
     ]
    }
   ],
   "source": [
    "with open(\"stories/ttcw_short_stories.json\", \"r\") as f:\n",
    "    stories = json.load(f)\n",
    "\n",
    "print(\"There are %d stories in the dataset\" % len(stories))\n",
    "story = stories[2]\n",
    "print(story.keys()) # Note: for the LLM-generate stories, \"content\" is the generated story, and for NewYork-published stories, \"content\" is a URL to the New Yorker website.\n",
    "\n",
    "for k in story.keys():\n",
    "    v = story[k][:100] + \"...\" if k == \"content\" else story[k]\n",
    "    print(\"[%s] %s\" % (k, v))"
   ]
  },
  {
   "cell_type": "markdown",
   "metadata": {},
   "source": [
    "# 2. Loading the tests"
   ]
  },
  {
   "cell_type": "code",
   "execution_count": 48,
   "metadata": {},
   "outputs": [],
   "source": [
    "with open(\"tests/ttcw_all_tests.json\", \"r\") as f:\n",
    "    tests = json.load(f)"
   ]
  },
  {
   "cell_type": "code",
   "execution_count": 49,
   "metadata": {},
   "outputs": [
    {
     "name": "stdout",
     "output_type": "stream",
     "text": [
      "----- TTCW 1 -----\n",
      "Torrance Dimension: Fluency\n",
      "Category: Narrative Ending\n",
      "Question formulation: Does the end of the story feel natural and earned, as opposed to arbitrary or abrupt?\n",
      "Prompt: If the writer ends the piece simply because they are 'tired of writing', the conclusion might feel a...\n",
      "----- TTCW 2 -----\n",
      "Torrance Dimension: Fluency\n",
      "Category: Understandability and Coherence\n",
      "Question formulation: Do the different elements of the story work together to form a unified, engaging, and satisfying whole?\n",
      "Prompt: A well-crafted story usually follows a logical path, where the events in the beginning set up the mi...\n",
      "----- TTCW 3 -----\n",
      "Torrance Dimension: Fluency\n",
      "Category: Scene vs Summary\n",
      "Question formulation: Does the story have an appropriate balance between scene and summary/exposition or it relies on one of the elements heavily compared to the other?\n",
      "Prompt: 'Scene' and 'summary/exposition' are two crucial elements of narrative storytelling, and balancing t...\n",
      "----- TTCW 4 -----\n",
      "Torrance Dimension: Fluency\n",
      "Category: Narrative Pacing\n",
      "Question formulation: Does the manipulation of time in terms of compression or stretching feel appropriate and balanced?\n",
      "Prompt: 'Compression/stretching of time' in fiction writing, also known as pacing, refers to the manipulatio...\n",
      "----- TTCW 5 -----\n",
      "Torrance Dimension: Fluency\n",
      "Category: Language Proficiency and Literary Devices\n",
      "Question formulation: Does the story make sophisticated use of idiom or metaphor or literary allusion?\n",
      "Prompt: 'Idiom' refers to phrases or expressions that have a figurative, or sometimes literal, meaning that ...\n",
      "----- TTCW 6 -----\n",
      "Torrance Dimension: Flexibility\n",
      "Category: Emotional Flexibility\n",
      "Question formulation: Does the story achieve a good balance between interiority and exteriority, in a way that feels emotionally flexible?\n",
      "Prompt: 'Emotional flexibility' is asking whether the piece of writing effectively balances action and intro...\n",
      "----- TTCW 7 -----\n",
      "Torrance Dimension: Flexibility\n",
      "Category: Structural Flexibility\n",
      "Question formulation: Does the story contain turns that are both surprising and appropriate?\n",
      "Prompt: 'Surprising': This refers to the element of unpredictability in a narrative. A good story often has ...\n",
      "----- TTCW 8 -----\n",
      "Torrance Dimension: Flexibility\n",
      "Category: Perspective and Voice Flexibility\n",
      "Question formulation: Does the story provide diverse perspectives, and if there are unlikeable characters, are their perspectives presented convincingly and accurately?\n",
      "Prompt: A good writer can convincingly and accurately depict a wide range of character viewpoints, including...\n",
      "----- TTCW 9 -----\n",
      "Torrance Dimension: Originality\n",
      "Category: Originality in Thought\n",
      "Question formulation: Is the story an original piece of writing without any cliches?\n",
      "Prompt: A cliche is an idea, expression, character, or plot that has been overused to the point of losing it...\n",
      "----- TTCW 10 -----\n",
      "Torrance Dimension: Originality\n",
      "Category: Originality in Form and Structure\n",
      "Question formulation: Does the story show originality in its form and/or structure?\n",
      "Prompt: When someone says that a piece of fiction 'shows an innovative use of form/structure', they're refer...\n",
      "----- TTCW 11 -----\n",
      "Torrance Dimension: Originality\n",
      "Category: Originality in Theme and Content\n",
      "Question formulation: Will an average reader of this story obtain a unique and original idea from reading it?\n",
      "Prompt: If a story is good, the reader gains new insights, perspectives, or knowledge from it . This doesn't...\n",
      "----- TTCW 12 -----\n",
      "Torrance Dimension: Elaboration\n",
      "Category: Rhetorical Complexity\n",
      "Question formulation: Are there passages in the story that involve subtext and when there is subtext, does it enrich the story's setting or does it feel forced?\n",
      "Prompt: 'Surface' level: This is the most apparent and straightforward level of a story. It includes the vis...\n",
      "----- TTCW 13 -----\n",
      "Torrance Dimension: Elaboration\n",
      "Category: World Building and Setting\n",
      "Question formulation: Does the writer make the fictional world believable at the sensory level?\n",
      "Prompt: Sensory details pertain to the five senses - sight, sound, touch, taste, and smell. An effective wri...\n",
      "----- TTCW 14 -----\n",
      "Torrance Dimension: Elaboration\n",
      "Category: Character Development\n",
      "Question formulation: Does each character in the story feel developed at the appropriate complexity level, ensuring that no character feels like they are present simply to satisfy a plot requirement?\n",
      "Prompt: A 'flat character' is typically a minor character who is not thoroughly developed or who does not un...\n"
     ]
    }
   ],
   "source": [
    "for test in tests:\n",
    "    print(\"----- TTCW %d -----\" % test[\"ttcw_idx\"])\n",
    "    print(\"Torrance Dimension: %s\" % test[\"torrance_dimension\"])\n",
    "    print(\"Category: %s\" % test[\"category\"])\n",
    "    print(\"Question formulation: %s\" % test[\"question\"])\n",
    "    print(\"Prompt: %s...\" % (test[\"full_prompt\"][:100]))"
   ]
  },
  {
   "cell_type": "markdown",
   "metadata": {},
   "source": [
    "# 3. Loading the annotations"
   ]
  },
  {
   "cell_type": "code",
   "execution_count": 50,
   "metadata": {},
   "outputs": [
    {
     "name": "stdout",
     "output_type": "stream",
     "text": [
      "Total of 2016 annotations\n",
      "dict_keys(['story_idx', 'story_id', 'expert_idx', 'ttcw_idx', 'category', 'binary_verdict', 'explanation'])\n"
     ]
    }
   ],
   "source": [
    "from IPython.display import display\n",
    "import pandas as pd\n",
    "\n",
    "with open(\"annotations/ttcw_annotations.json\", \"r\") as f:\n",
    "    annotations = json.load(f)\n",
    "\n",
    "# Each of the 14 tests was completed by 3 independent expert annotators.\n",
    "# 48 stories x 14 tests x 3 annotators = 2016 annotations\n",
    "print(\"Total of %d annotations\" % len(annotations))\n",
    "print(annotations[0].keys())"
   ]
  },
  {
   "cell_type": "code",
   "execution_count": 51,
   "metadata": {},
   "outputs": [
    {
     "name": "stdout",
     "output_type": "stream",
     "text": [
      "----- TTCW 1 -----\n"
     ]
    },
    {
     "data": {
      "text/html": [
       "<style type=\"text/css\">\n",
       "</style>\n",
       "<table id=\"T_52323\">\n",
       "  <caption>[Fluency; Narrative Ending] Does the end of the story feel natural and earned, as opposed to arbitrary or abrupt?</caption>\n",
       "  <thead>\n",
       "    <tr>\n",
       "      <th class=\"blank level0\" >&nbsp;</th>\n",
       "      <th id=\"T_52323_level0_col0\" class=\"col_heading level0 col0\" >Expert Idx</th>\n",
       "      <th id=\"T_52323_level0_col1\" class=\"col_heading level0 col1\" >Verdict</th>\n",
       "      <th id=\"T_52323_level0_col2\" class=\"col_heading level0 col2\" >Explanation</th>\n",
       "    </tr>\n",
       "  </thead>\n",
       "  <tbody>\n",
       "    <tr>\n",
       "      <th id=\"T_52323_level0_row0\" class=\"row_heading level0 row0\" >0</th>\n",
       "      <td id=\"T_52323_row0_col0\" class=\"data row0 col0\" >9</td>\n",
       "      <td id=\"T_52323_row0_col1\" class=\"data row0 col1\" >No</td>\n",
       "      <td id=\"T_52323_row0_col2\" class=\"data row0 col2\" >The end of the story feels arbitrary, in so far as the ideas at the end of the story don't seem to f...</td>\n",
       "    </tr>\n",
       "    <tr>\n",
       "      <th id=\"T_52323_level0_row1\" class=\"row_heading level0 row1\" >1</th>\n",
       "      <td id=\"T_52323_row1_col0\" class=\"data row1 col0\" >1</td>\n",
       "      <td id=\"T_52323_row1_col1\" class=\"data row1 col1\" >No</td>\n",
       "      <td id=\"T_52323_row1_col2\" class=\"data row1 col2\" >Many of the decisions the story makes are startling and baffling, starting with the mothers’ decisio...</td>\n",
       "    </tr>\n",
       "    <tr>\n",
       "      <th id=\"T_52323_level0_row2\" class=\"row_heading level0 row2\" >2</th>\n",
       "      <td id=\"T_52323_row2_col0\" class=\"data row2 col0\" >7</td>\n",
       "      <td id=\"T_52323_row2_col1\" class=\"data row2 col1\" >No</td>\n",
       "      <td id=\"T_52323_row2_col2\" class=\"data row2 col2\" >The ending to the story feels contrived and pat rather than meaningfully earned or even truly relate...</td>\n",
       "    </tr>\n",
       "  </tbody>\n",
       "</table>\n"
      ],
      "text/plain": [
       "<pandas.io.formats.style.Styler at 0x7f3899504bb0>"
      ]
     },
     "metadata": {},
     "output_type": "display_data"
    },
    {
     "name": "stdout",
     "output_type": "stream",
     "text": [
      "----- TTCW 2 -----\n"
     ]
    },
    {
     "data": {
      "text/html": [
       "<style type=\"text/css\">\n",
       "</style>\n",
       "<table id=\"T_a6ecb\">\n",
       "  <caption>[Fluency; Understandability and Coherence] Do the different elements of the story work together to form a unified, engaging, and satisfying whole?</caption>\n",
       "  <thead>\n",
       "    <tr>\n",
       "      <th class=\"blank level0\" >&nbsp;</th>\n",
       "      <th id=\"T_a6ecb_level0_col0\" class=\"col_heading level0 col0\" >Expert Idx</th>\n",
       "      <th id=\"T_a6ecb_level0_col1\" class=\"col_heading level0 col1\" >Verdict</th>\n",
       "      <th id=\"T_a6ecb_level0_col2\" class=\"col_heading level0 col2\" >Explanation</th>\n",
       "    </tr>\n",
       "  </thead>\n",
       "  <tbody>\n",
       "    <tr>\n",
       "      <th id=\"T_a6ecb_level0_row0\" class=\"row_heading level0 row0\" >0</th>\n",
       "      <td id=\"T_a6ecb_row0_col0\" class=\"data row0 col0\" >9</td>\n",
       "      <td id=\"T_a6ecb_row0_col1\" class=\"data row0 col1\" >No</td>\n",
       "      <td id=\"T_a6ecb_row0_col2\" class=\"data row0 col2\" >The story does not work together as a unified whole, and there are some aspects that do not make sen...</td>\n",
       "    </tr>\n",
       "    <tr>\n",
       "      <th id=\"T_a6ecb_level0_row1\" class=\"row_heading level0 row1\" >1</th>\n",
       "      <td id=\"T_a6ecb_row1_col0\" class=\"data row1 col0\" >1</td>\n",
       "      <td id=\"T_a6ecb_row1_col1\" class=\"data row1 col1\" >No</td>\n",
       "      <td id=\"T_a6ecb_row1_col2\" class=\"data row1 col2\" >The narrative consistently shifts so quickly that it is entirely implausible or nonsensical and incl...</td>\n",
       "    </tr>\n",
       "    <tr>\n",
       "      <th id=\"T_a6ecb_level0_row2\" class=\"row_heading level0 row2\" >2</th>\n",
       "      <td id=\"T_a6ecb_row2_col0\" class=\"data row2 col0\" >7</td>\n",
       "      <td id=\"T_a6ecb_row2_col1\" class=\"data row2 col1\" >No</td>\n",
       "      <td id=\"T_a6ecb_row2_col2\" class=\"data row2 col2\" >The two main threads of this story: the baby mix-up and Lily's development into an artist don't feel...</td>\n",
       "    </tr>\n",
       "  </tbody>\n",
       "</table>\n"
      ],
      "text/plain": [
       "<pandas.io.formats.style.Styler at 0x7f38995044f0>"
      ]
     },
     "metadata": {},
     "output_type": "display_data"
    },
    {
     "name": "stdout",
     "output_type": "stream",
     "text": [
      "----- TTCW 3 -----\n"
     ]
    },
    {
     "data": {
      "text/html": [
       "<style type=\"text/css\">\n",
       "</style>\n",
       "<table id=\"T_b0394\">\n",
       "  <caption>[Fluency; Scene vs Summary] Does the story have an appropriate balance between scene and summary/exposition or it relies on one of the elements heavily compared to the other?</caption>\n",
       "  <thead>\n",
       "    <tr>\n",
       "      <th class=\"blank level0\" >&nbsp;</th>\n",
       "      <th id=\"T_b0394_level0_col0\" class=\"col_heading level0 col0\" >Expert Idx</th>\n",
       "      <th id=\"T_b0394_level0_col1\" class=\"col_heading level0 col1\" >Verdict</th>\n",
       "      <th id=\"T_b0394_level0_col2\" class=\"col_heading level0 col2\" >Explanation</th>\n",
       "    </tr>\n",
       "  </thead>\n",
       "  <tbody>\n",
       "    <tr>\n",
       "      <th id=\"T_b0394_level0_row0\" class=\"row_heading level0 row0\" >0</th>\n",
       "      <td id=\"T_b0394_row0_col0\" class=\"data row0 col0\" >9</td>\n",
       "      <td id=\"T_b0394_row0_col1\" class=\"data row0 col1\" >No</td>\n",
       "      <td id=\"T_b0394_row0_col2\" class=\"data row0 col2\" >The summary of events over the course of the last two pages is rambling and redundant. The events he...</td>\n",
       "    </tr>\n",
       "    <tr>\n",
       "      <th id=\"T_b0394_level0_row1\" class=\"row_heading level0 row1\" >1</th>\n",
       "      <td id=\"T_b0394_row1_col0\" class=\"data row1 col0\" >1</td>\n",
       "      <td id=\"T_b0394_row1_col1\" class=\"data row1 col1\" >No</td>\n",
       "      <td id=\"T_b0394_row1_col2\" class=\"data row1 col2\" >Though the story does contain some scenes within its summary, all of them are ludicrous, starting wi...</td>\n",
       "    </tr>\n",
       "    <tr>\n",
       "      <th id=\"T_b0394_level0_row2\" class=\"row_heading level0 row2\" >2</th>\n",
       "      <td id=\"T_b0394_row2_col0\" class=\"data row2 col0\" >7</td>\n",
       "      <td id=\"T_b0394_row2_col1\" class=\"data row2 col1\" >No</td>\n",
       "      <td id=\"T_b0394_row2_col2\" class=\"data row2 col2\" >There are both scenes and summary here, but neither are fully satisfying, and the pattern by which t...</td>\n",
       "    </tr>\n",
       "  </tbody>\n",
       "</table>\n"
      ],
      "text/plain": [
       "<pandas.io.formats.style.Styler at 0x7f3899504430>"
      ]
     },
     "metadata": {},
     "output_type": "display_data"
    },
    {
     "name": "stdout",
     "output_type": "stream",
     "text": [
      "----- TTCW 4 -----\n"
     ]
    },
    {
     "data": {
      "text/html": [
       "<style type=\"text/css\">\n",
       "</style>\n",
       "<table id=\"T_3a2bf\">\n",
       "  <caption>[Fluency; Narrative Pacing] Does the manipulation of time in terms of compression or stretching feel appropriate and balanced?</caption>\n",
       "  <thead>\n",
       "    <tr>\n",
       "      <th class=\"blank level0\" >&nbsp;</th>\n",
       "      <th id=\"T_3a2bf_level0_col0\" class=\"col_heading level0 col0\" >Expert Idx</th>\n",
       "      <th id=\"T_3a2bf_level0_col1\" class=\"col_heading level0 col1\" >Verdict</th>\n",
       "      <th id=\"T_3a2bf_level0_col2\" class=\"col_heading level0 col2\" >Explanation</th>\n",
       "    </tr>\n",
       "  </thead>\n",
       "  <tbody>\n",
       "    <tr>\n",
       "      <th id=\"T_3a2bf_level0_row0\" class=\"row_heading level0 row0\" >0</th>\n",
       "      <td id=\"T_3a2bf_row0_col0\" class=\"data row0 col0\" >9</td>\n",
       "      <td id=\"T_3a2bf_row0_col1\" class=\"data row0 col1\" >No</td>\n",
       "      <td id=\"T_3a2bf_row0_col2\" class=\"data row0 col2\" >The last couple pages are characterized by a vague sense of time, which is repetitive and not tied t...</td>\n",
       "    </tr>\n",
       "    <tr>\n",
       "      <th id=\"T_3a2bf_level0_row1\" class=\"row_heading level0 row1\" >1</th>\n",
       "      <td id=\"T_3a2bf_row1_col0\" class=\"data row1 col0\" >1</td>\n",
       "      <td id=\"T_3a2bf_row1_col1\" class=\"data row1 col1\" >No</td>\n",
       "      <td id=\"T_3a2bf_row1_col2\" class=\"data row1 col2\" >The narrative pairs its absurd leaps in logic with equally massive leaps in time. Both are impossibl...</td>\n",
       "    </tr>\n",
       "    <tr>\n",
       "      <th id=\"T_3a2bf_level0_row2\" class=\"row_heading level0 row2\" >2</th>\n",
       "      <td id=\"T_3a2bf_row2_col0\" class=\"data row2 col0\" >7</td>\n",
       "      <td id=\"T_3a2bf_row2_col1\" class=\"data row2 col1\" >No</td>\n",
       "      <td id=\"T_3a2bf_row2_col2\" class=\"data row2 col2\" >While the narrative does include moments of both compressed time, the use of this technique feels el...</td>\n",
       "    </tr>\n",
       "  </tbody>\n",
       "</table>\n"
      ],
      "text/plain": [
       "<pandas.io.formats.style.Styler at 0x7f3899504a60>"
      ]
     },
     "metadata": {},
     "output_type": "display_data"
    },
    {
     "name": "stdout",
     "output_type": "stream",
     "text": [
      "----- TTCW 5 -----\n"
     ]
    },
    {
     "data": {
      "text/html": [
       "<style type=\"text/css\">\n",
       "</style>\n",
       "<table id=\"T_90700\">\n",
       "  <caption>[Fluency; Language Proficiency and Literary Devices] Does the story make sophisticated use of idiom or metaphor or literary allusion?</caption>\n",
       "  <thead>\n",
       "    <tr>\n",
       "      <th class=\"blank level0\" >&nbsp;</th>\n",
       "      <th id=\"T_90700_level0_col0\" class=\"col_heading level0 col0\" >Expert Idx</th>\n",
       "      <th id=\"T_90700_level0_col1\" class=\"col_heading level0 col1\" >Verdict</th>\n",
       "      <th id=\"T_90700_level0_col2\" class=\"col_heading level0 col2\" >Explanation</th>\n",
       "    </tr>\n",
       "  </thead>\n",
       "  <tbody>\n",
       "    <tr>\n",
       "      <th id=\"T_90700_level0_row0\" class=\"row_heading level0 row0\" >0</th>\n",
       "      <td id=\"T_90700_row0_col0\" class=\"data row0 col0\" >9</td>\n",
       "      <td id=\"T_90700_row0_col1\" class=\"data row0 col1\" >No</td>\n",
       "      <td id=\"T_90700_row0_col2\" class=\"data row0 col2\" >The language is straightforward, and does not make sophisticated use of these devices....</td>\n",
       "    </tr>\n",
       "    <tr>\n",
       "      <th id=\"T_90700_level0_row1\" class=\"row_heading level0 row1\" >1</th>\n",
       "      <td id=\"T_90700_row1_col0\" class=\"data row1 col0\" >1</td>\n",
       "      <td id=\"T_90700_row1_col1\" class=\"data row1 col1\" >No</td>\n",
       "      <td id=\"T_90700_row1_col2\" class=\"data row1 col2\" >The story uses overwrought language throughout. For instance, early on: “Each room seemed to contain...</td>\n",
       "    </tr>\n",
       "    <tr>\n",
       "      <th id=\"T_90700_level0_row2\" class=\"row_heading level0 row2\" >2</th>\n",
       "      <td id=\"T_90700_row2_col0\" class=\"data row2 col0\" >7</td>\n",
       "      <td id=\"T_90700_row2_col1\" class=\"data row2 col1\" >No</td>\n",
       "      <td id=\"T_90700_row2_col2\" class=\"data row2 col2\" >The language throughout lacks sophistication—I didn't find any allusions to speak of; any idioms fee...</td>\n",
       "    </tr>\n",
       "  </tbody>\n",
       "</table>\n"
      ],
      "text/plain": [
       "<pandas.io.formats.style.Styler at 0x7f3899504880>"
      ]
     },
     "metadata": {},
     "output_type": "display_data"
    },
    {
     "name": "stdout",
     "output_type": "stream",
     "text": [
      "----- TTCW 6 -----\n"
     ]
    },
    {
     "data": {
      "text/html": [
       "<style type=\"text/css\">\n",
       "</style>\n",
       "<table id=\"T_b01d4\">\n",
       "  <caption>[Flexibility; Emotional Flexibility] Does the story achieve a good balance between interiority and exteriority, in a way that feels emotionally flexible?</caption>\n",
       "  <thead>\n",
       "    <tr>\n",
       "      <th class=\"blank level0\" >&nbsp;</th>\n",
       "      <th id=\"T_b01d4_level0_col0\" class=\"col_heading level0 col0\" >Expert Idx</th>\n",
       "      <th id=\"T_b01d4_level0_col1\" class=\"col_heading level0 col1\" >Verdict</th>\n",
       "      <th id=\"T_b01d4_level0_col2\" class=\"col_heading level0 col2\" >Explanation</th>\n",
       "    </tr>\n",
       "  </thead>\n",
       "  <tbody>\n",
       "    <tr>\n",
       "      <th id=\"T_b01d4_level0_row0\" class=\"row_heading level0 row0\" >0</th>\n",
       "      <td id=\"T_b01d4_row0_col0\" class=\"data row0 col0\" >9</td>\n",
       "      <td id=\"T_b01d4_row0_col1\" class=\"data row0 col1\" >Yes</td>\n",
       "      <td id=\"T_b01d4_row0_col2\" class=\"data row0 col2\" >There is a good balance between action and Lily's interior thoughts, especially in the first half of...</td>\n",
       "    </tr>\n",
       "    <tr>\n",
       "      <th id=\"T_b01d4_level0_row1\" class=\"row_heading level0 row1\" >1</th>\n",
       "      <td id=\"T_b01d4_row1_col0\" class=\"data row1 col0\" >1</td>\n",
       "      <td id=\"T_b01d4_row1_col1\" class=\"data row1 col1\" >No</td>\n",
       "      <td id=\"T_b01d4_row1_col2\" class=\"data row1 col2\" >There is no emotional experience to this story that is not outright stated....</td>\n",
       "    </tr>\n",
       "    <tr>\n",
       "      <th id=\"T_b01d4_level0_row2\" class=\"row_heading level0 row2\" >2</th>\n",
       "      <td id=\"T_b01d4_row2_col0\" class=\"data row2 col0\" >7</td>\n",
       "      <td id=\"T_b01d4_row2_col1\" class=\"data row2 col1\" >No</td>\n",
       "      <td id=\"T_b01d4_row2_col2\" class=\"data row2 col2\" >While the story offers us perhaps too many descriptions of Lily's thoughts, her interiority does not...</td>\n",
       "    </tr>\n",
       "  </tbody>\n",
       "</table>\n"
      ],
      "text/plain": [
       "<pandas.io.formats.style.Styler at 0x7f3899504df0>"
      ]
     },
     "metadata": {},
     "output_type": "display_data"
    },
    {
     "name": "stdout",
     "output_type": "stream",
     "text": [
      "----- TTCW 7 -----\n"
     ]
    },
    {
     "data": {
      "text/html": [
       "<style type=\"text/css\">\n",
       "</style>\n",
       "<table id=\"T_f8e88\">\n",
       "  <caption>[Flexibility; Structural Flexibility] Does the story contain turns that are both surprising and appropriate?</caption>\n",
       "  <thead>\n",
       "    <tr>\n",
       "      <th class=\"blank level0\" >&nbsp;</th>\n",
       "      <th id=\"T_f8e88_level0_col0\" class=\"col_heading level0 col0\" >Expert Idx</th>\n",
       "      <th id=\"T_f8e88_level0_col1\" class=\"col_heading level0 col1\" >Verdict</th>\n",
       "      <th id=\"T_f8e88_level0_col2\" class=\"col_heading level0 col2\" >Explanation</th>\n",
       "    </tr>\n",
       "  </thead>\n",
       "  <tbody>\n",
       "    <tr>\n",
       "      <th id=\"T_f8e88_level0_row0\" class=\"row_heading level0 row0\" >0</th>\n",
       "      <td id=\"T_f8e88_row0_col0\" class=\"data row0 col0\" >9</td>\n",
       "      <td id=\"T_f8e88_row0_col1\" class=\"data row0 col1\" >No</td>\n",
       "      <td id=\"T_f8e88_row0_col2\" class=\"data row0 col2\" >The turns taken in the story don't seem appropriate. Lily's decision to switch babies isn't really e...</td>\n",
       "    </tr>\n",
       "    <tr>\n",
       "      <th id=\"T_f8e88_level0_row1\" class=\"row_heading level0 row1\" >1</th>\n",
       "      <td id=\"T_f8e88_row1_col0\" class=\"data row1 col0\" >1</td>\n",
       "      <td id=\"T_f8e88_row1_col1\" class=\"data row1 col1\" >No</td>\n",
       "      <td id=\"T_f8e88_row1_col2\" class=\"data row1 col2\" >The story makes unhinged decisions. It is bold and some of these decisions I might love in an entire...</td>\n",
       "    </tr>\n",
       "    <tr>\n",
       "      <th id=\"T_f8e88_level0_row2\" class=\"row_heading level0 row2\" >2</th>\n",
       "      <td id=\"T_f8e88_row2_col0\" class=\"data row2 col0\" >7</td>\n",
       "      <td id=\"T_f8e88_row2_col1\" class=\"data row2 col1\" >No</td>\n",
       "      <td id=\"T_f8e88_row2_col2\" class=\"data row2 col2\" >There are surprises here but they feel mostly arbitrary—the reader is never given either the larger ...</td>\n",
       "    </tr>\n",
       "  </tbody>\n",
       "</table>\n"
      ],
      "text/plain": [
       "<pandas.io.formats.style.Styler at 0x7f3899504e80>"
      ]
     },
     "metadata": {},
     "output_type": "display_data"
    },
    {
     "name": "stdout",
     "output_type": "stream",
     "text": [
      "----- TTCW 8 -----\n"
     ]
    },
    {
     "data": {
      "text/html": [
       "<style type=\"text/css\">\n",
       "</style>\n",
       "<table id=\"T_0d458\">\n",
       "  <caption>[Flexibility; Perspective and Voice Flexibility] Does the story provide diverse perspectives, and if there are unlikeable characters, are their perspectives presented convincingly and accurately?</caption>\n",
       "  <thead>\n",
       "    <tr>\n",
       "      <th class=\"blank level0\" >&nbsp;</th>\n",
       "      <th id=\"T_0d458_level0_col0\" class=\"col_heading level0 col0\" >Expert Idx</th>\n",
       "      <th id=\"T_0d458_level0_col1\" class=\"col_heading level0 col1\" >Verdict</th>\n",
       "      <th id=\"T_0d458_level0_col2\" class=\"col_heading level0 col2\" >Explanation</th>\n",
       "    </tr>\n",
       "  </thead>\n",
       "  <tbody>\n",
       "    <tr>\n",
       "      <th id=\"T_0d458_level0_row0\" class=\"row_heading level0 row0\" >0</th>\n",
       "      <td id=\"T_0d458_row0_col0\" class=\"data row0 col0\" >9</td>\n",
       "      <td id=\"T_0d458_row0_col1\" class=\"data row0 col1\" >No</td>\n",
       "      <td id=\"T_0d458_row0_col2\" class=\"data row0 col2\" >The other mother disappears from the narrative without much explanation, and Lily is really the only...</td>\n",
       "    </tr>\n",
       "    <tr>\n",
       "      <th id=\"T_0d458_level0_row1\" class=\"row_heading level0 row1\" >1</th>\n",
       "      <td id=\"T_0d458_row1_col0\" class=\"data row1 col0\" >1</td>\n",
       "      <td id=\"T_0d458_row1_col1\" class=\"data row1 col1\" >No</td>\n",
       "      <td id=\"T_0d458_row1_col2\" class=\"data row1 col2\" >Lily is an empty vessel. I do not believe she is really a character. She makes decisions that are lu...</td>\n",
       "    </tr>\n",
       "    <tr>\n",
       "      <th id=\"T_0d458_level0_row2\" class=\"row_heading level0 row2\" >2</th>\n",
       "      <td id=\"T_0d458_row2_col0\" class=\"data row2 col0\" >7</td>\n",
       "      <td id=\"T_0d458_row2_col1\" class=\"data row2 col1\" >No</td>\n",
       "      <td id=\"T_0d458_row2_col2\" class=\"data row2 col2\" >The story does not provide diverse perspectives, and the one perspective that we do get feels more l...</td>\n",
       "    </tr>\n",
       "  </tbody>\n",
       "</table>\n"
      ],
      "text/plain": [
       "<pandas.io.formats.style.Styler at 0x7f3899504490>"
      ]
     },
     "metadata": {},
     "output_type": "display_data"
    },
    {
     "name": "stdout",
     "output_type": "stream",
     "text": [
      "----- TTCW 9 -----\n"
     ]
    },
    {
     "data": {
      "text/html": [
       "<style type=\"text/css\">\n",
       "</style>\n",
       "<table id=\"T_cfa52\">\n",
       "  <caption>[Originality; Originality in Thought] Is the story an original piece of writing without any cliches?</caption>\n",
       "  <thead>\n",
       "    <tr>\n",
       "      <th class=\"blank level0\" >&nbsp;</th>\n",
       "      <th id=\"T_cfa52_level0_col0\" class=\"col_heading level0 col0\" >Expert Idx</th>\n",
       "      <th id=\"T_cfa52_level0_col1\" class=\"col_heading level0 col1\" >Verdict</th>\n",
       "      <th id=\"T_cfa52_level0_col2\" class=\"col_heading level0 col2\" >Explanation</th>\n",
       "    </tr>\n",
       "  </thead>\n",
       "  <tbody>\n",
       "    <tr>\n",
       "      <th id=\"T_cfa52_level0_row0\" class=\"row_heading level0 row0\" >0</th>\n",
       "      <td id=\"T_cfa52_row0_col0\" class=\"data row0 col0\" >9</td>\n",
       "      <td id=\"T_cfa52_row0_col1\" class=\"data row0 col1\" >No</td>\n",
       "      <td id=\"T_cfa52_row0_col2\" class=\"data row0 col2\" >The end of the story drifts toward cliche and uninteresting language. For example, \"she brought toge...</td>\n",
       "    </tr>\n",
       "    <tr>\n",
       "      <th id=\"T_cfa52_level0_row1\" class=\"row_heading level0 row1\" >1</th>\n",
       "      <td id=\"T_cfa52_row1_col0\" class=\"data row1 col0\" >1</td>\n",
       "      <td id=\"T_cfa52_row1_col1\" class=\"data row1 col1\" >No</td>\n",
       "      <td id=\"T_cfa52_row1_col2\" class=\"data row1 col2\" >I am tempted to answer yes to this because the narrative’s logic is so wild I can’t even fathom it! ...</td>\n",
       "    </tr>\n",
       "    <tr>\n",
       "      <th id=\"T_cfa52_level0_row2\" class=\"row_heading level0 row2\" >2</th>\n",
       "      <td id=\"T_cfa52_row2_col0\" class=\"data row2 col0\" >7</td>\n",
       "      <td id=\"T_cfa52_row2_col1\" class=\"data row2 col1\" >No</td>\n",
       "      <td id=\"T_cfa52_row2_col2\" class=\"data row2 col2\" >This piece is full of cliches, including phrases like \"twist of fate\" and \"Lily's heart skipped a be...</td>\n",
       "    </tr>\n",
       "  </tbody>\n",
       "</table>\n"
      ],
      "text/plain": [
       "<pandas.io.formats.style.Styler at 0x7f389976b8e0>"
      ]
     },
     "metadata": {},
     "output_type": "display_data"
    },
    {
     "name": "stdout",
     "output_type": "stream",
     "text": [
      "----- TTCW 10 -----\n"
     ]
    },
    {
     "data": {
      "text/html": [
       "<style type=\"text/css\">\n",
       "</style>\n",
       "<table id=\"T_47c09\">\n",
       "  <caption>[Originality; Originality in Form and Structure] Does the story show originality in its form and/or structure?</caption>\n",
       "  <thead>\n",
       "    <tr>\n",
       "      <th class=\"blank level0\" >&nbsp;</th>\n",
       "      <th id=\"T_47c09_level0_col0\" class=\"col_heading level0 col0\" >Expert Idx</th>\n",
       "      <th id=\"T_47c09_level0_col1\" class=\"col_heading level0 col1\" >Verdict</th>\n",
       "      <th id=\"T_47c09_level0_col2\" class=\"col_heading level0 col2\" >Explanation</th>\n",
       "    </tr>\n",
       "  </thead>\n",
       "  <tbody>\n",
       "    <tr>\n",
       "      <th id=\"T_47c09_level0_row0\" class=\"row_heading level0 row0\" >0</th>\n",
       "      <td id=\"T_47c09_row0_col0\" class=\"data row0 col0\" >9</td>\n",
       "      <td id=\"T_47c09_row0_col1\" class=\"data row0 col1\" >No</td>\n",
       "      <td id=\"T_47c09_row0_col2\" class=\"data row0 col2\" >There is nothing really original about the story's form or structure....</td>\n",
       "    </tr>\n",
       "    <tr>\n",
       "      <th id=\"T_47c09_level0_row1\" class=\"row_heading level0 row1\" >1</th>\n",
       "      <td id=\"T_47c09_row1_col0\" class=\"data row1 col0\" >1</td>\n",
       "      <td id=\"T_47c09_row1_col1\" class=\"data row1 col1\" >No</td>\n",
       "      <td id=\"T_47c09_row1_col2\" class=\"data row1 col2\" >The originality here is that the turns and twists this story takes are practically impossible to ima...</td>\n",
       "    </tr>\n",
       "    <tr>\n",
       "      <th id=\"T_47c09_level0_row2\" class=\"row_heading level0 row2\" >2</th>\n",
       "      <td id=\"T_47c09_row2_col0\" class=\"data row2 col0\" >7</td>\n",
       "      <td id=\"T_47c09_row2_col1\" class=\"data row2 col1\" >No</td>\n",
       "      <td id=\"T_47c09_row2_col2\" class=\"data row2 col2\" >While this story fails to execute on a traditional three-act structure, it doesn't do so in a way th...</td>\n",
       "    </tr>\n",
       "  </tbody>\n",
       "</table>\n"
      ],
      "text/plain": [
       "<pandas.io.formats.style.Styler at 0x7f3899504d60>"
      ]
     },
     "metadata": {},
     "output_type": "display_data"
    },
    {
     "name": "stdout",
     "output_type": "stream",
     "text": [
      "----- TTCW 11 -----\n"
     ]
    },
    {
     "data": {
      "text/html": [
       "<style type=\"text/css\">\n",
       "</style>\n",
       "<table id=\"T_4cdc9\">\n",
       "  <caption>[Originality; Originality in Theme and Content] Will an average reader of this story obtain a unique and original idea from reading it?</caption>\n",
       "  <thead>\n",
       "    <tr>\n",
       "      <th class=\"blank level0\" >&nbsp;</th>\n",
       "      <th id=\"T_4cdc9_level0_col0\" class=\"col_heading level0 col0\" >Expert Idx</th>\n",
       "      <th id=\"T_4cdc9_level0_col1\" class=\"col_heading level0 col1\" >Verdict</th>\n",
       "      <th id=\"T_4cdc9_level0_col2\" class=\"col_heading level0 col2\" >Explanation</th>\n",
       "    </tr>\n",
       "  </thead>\n",
       "  <tbody>\n",
       "    <tr>\n",
       "      <th id=\"T_4cdc9_level0_row0\" class=\"row_heading level0 row0\" >0</th>\n",
       "      <td id=\"T_4cdc9_row0_col0\" class=\"data row0 col0\" >9</td>\n",
       "      <td id=\"T_4cdc9_row0_col1\" class=\"data row0 col1\" >No</td>\n",
       "      <td id=\"T_4cdc9_row0_col2\" class=\"data row0 col2\" >Perhaps if the emotional connection between the hospital encounter and Lily's later life could be ex...</td>\n",
       "    </tr>\n",
       "    <tr>\n",
       "      <th id=\"T_4cdc9_level0_row1\" class=\"row_heading level0 row1\" >1</th>\n",
       "      <td id=\"T_4cdc9_row1_col0\" class=\"data row1 col0\" >1</td>\n",
       "      <td id=\"T_4cdc9_row1_col1\" class=\"data row1 col1\" >No</td>\n",
       "      <td id=\"T_4cdc9_row1_col2\" class=\"data row1 col2\" >To be frank, I do not believe this story has themes. It does not feel as though it is intended to an...</td>\n",
       "    </tr>\n",
       "    <tr>\n",
       "      <th id=\"T_4cdc9_level0_row2\" class=\"row_heading level0 row2\" >2</th>\n",
       "      <td id=\"T_4cdc9_row2_col0\" class=\"data row2 col0\" >7</td>\n",
       "      <td id=\"T_4cdc9_row2_col1\" class=\"data row2 col1\" >No</td>\n",
       "      <td id=\"T_4cdc9_row2_col2\" class=\"data row2 col2\" >While the story seems to be attempting to offer up some deep takeaways about fate and the power of a...</td>\n",
       "    </tr>\n",
       "  </tbody>\n",
       "</table>\n"
      ],
      "text/plain": [
       "<pandas.io.formats.style.Styler at 0x7f3899504e50>"
      ]
     },
     "metadata": {},
     "output_type": "display_data"
    },
    {
     "name": "stdout",
     "output_type": "stream",
     "text": [
      "----- TTCW 12 -----\n"
     ]
    },
    {
     "data": {
      "text/html": [
       "<style type=\"text/css\">\n",
       "</style>\n",
       "<table id=\"T_08358\">\n",
       "  <caption>[Elaboration; Rhetorical Complexity] Are there passages in the story that involve subtext and when there is subtext, does it enrich the story's setting or does it feel forced?</caption>\n",
       "  <thead>\n",
       "    <tr>\n",
       "      <th class=\"blank level0\" >&nbsp;</th>\n",
       "      <th id=\"T_08358_level0_col0\" class=\"col_heading level0 col0\" >Expert Idx</th>\n",
       "      <th id=\"T_08358_level0_col1\" class=\"col_heading level0 col1\" >Verdict</th>\n",
       "      <th id=\"T_08358_level0_col2\" class=\"col_heading level0 col2\" >Explanation</th>\n",
       "    </tr>\n",
       "  </thead>\n",
       "  <tbody>\n",
       "    <tr>\n",
       "      <th id=\"T_08358_level0_row0\" class=\"row_heading level0 row0\" >0</th>\n",
       "      <td id=\"T_08358_row0_col0\" class=\"data row0 col0\" >9</td>\n",
       "      <td id=\"T_08358_row0_col1\" class=\"data row0 col1\" >No</td>\n",
       "      <td id=\"T_08358_row0_col2\" class=\"data row0 col2\" >I couldn't discern much of any meaning or allusion below the surface meaning of the narrative....</td>\n",
       "    </tr>\n",
       "    <tr>\n",
       "      <th id=\"T_08358_level0_row1\" class=\"row_heading level0 row1\" >1</th>\n",
       "      <td id=\"T_08358_row1_col0\" class=\"data row1 col0\" >1</td>\n",
       "      <td id=\"T_08358_row1_col1\" class=\"data row1 col1\" >No</td>\n",
       "      <td id=\"T_08358_row1_col2\" class=\"data row1 col2\" >There is nothing happening in this story that is not stated outright, often to the point of real lau...</td>\n",
       "    </tr>\n",
       "    <tr>\n",
       "      <th id=\"T_08358_level0_row2\" class=\"row_heading level0 row2\" >2</th>\n",
       "      <td id=\"T_08358_row2_col0\" class=\"data row2 col0\" >7</td>\n",
       "      <td id=\"T_08358_row2_col1\" class=\"data row2 col1\" >No</td>\n",
       "      <td id=\"T_08358_row2_col2\" class=\"data row2 col2\" >The piece clearly has aspirations towards a larger meaning, but rather than allowing those to come t...</td>\n",
       "    </tr>\n",
       "  </tbody>\n",
       "</table>\n"
      ],
      "text/plain": [
       "<pandas.io.formats.style.Styler at 0x7f3899504a30>"
      ]
     },
     "metadata": {},
     "output_type": "display_data"
    },
    {
     "name": "stdout",
     "output_type": "stream",
     "text": [
      "----- TTCW 13 -----\n"
     ]
    },
    {
     "data": {
      "text/html": [
       "<style type=\"text/css\">\n",
       "</style>\n",
       "<table id=\"T_d9177\">\n",
       "  <caption>[Elaboration; World Building and Setting] Does the writer make the fictional world believable at the sensory level?</caption>\n",
       "  <thead>\n",
       "    <tr>\n",
       "      <th class=\"blank level0\" >&nbsp;</th>\n",
       "      <th id=\"T_d9177_level0_col0\" class=\"col_heading level0 col0\" >Expert Idx</th>\n",
       "      <th id=\"T_d9177_level0_col1\" class=\"col_heading level0 col1\" >Verdict</th>\n",
       "      <th id=\"T_d9177_level0_col2\" class=\"col_heading level0 col2\" >Explanation</th>\n",
       "    </tr>\n",
       "  </thead>\n",
       "  <tbody>\n",
       "    <tr>\n",
       "      <th id=\"T_d9177_level0_row0\" class=\"row_heading level0 row0\" >0</th>\n",
       "      <td id=\"T_d9177_row0_col0\" class=\"data row0 col0\" >9</td>\n",
       "      <td id=\"T_d9177_row0_col1\" class=\"data row0 col1\" >No</td>\n",
       "      <td id=\"T_d9177_row0_col2\" class=\"data row0 col2\" >Overall, no. There is good attention to details at the beginning, including things like Lily's room ...</td>\n",
       "    </tr>\n",
       "    <tr>\n",
       "      <th id=\"T_d9177_level0_row1\" class=\"row_heading level0 row1\" >1</th>\n",
       "      <td id=\"T_d9177_row1_col0\" class=\"data row1 col0\" >1</td>\n",
       "      <td id=\"T_d9177_row1_col1\" class=\"data row1 col1\" >No</td>\n",
       "      <td id=\"T_d9177_row1_col2\" class=\"data row1 col2\" >There are attempts to create scenes here and there, especially in the beginning in the hospital, bef...</td>\n",
       "    </tr>\n",
       "    <tr>\n",
       "      <th id=\"T_d9177_level0_row2\" class=\"row_heading level0 row2\" >2</th>\n",
       "      <td id=\"T_d9177_row2_col0\" class=\"data row2 col0\" >7</td>\n",
       "      <td id=\"T_d9177_row2_col1\" class=\"data row2 col1\" >No</td>\n",
       "      <td id=\"T_d9177_row2_col2\" class=\"data row2 col2\" >There is very little sensory detail here—descriptions are primarily visual and often revolve around ...</td>\n",
       "    </tr>\n",
       "  </tbody>\n",
       "</table>\n"
      ],
      "text/plain": [
       "<pandas.io.formats.style.Styler at 0x7f38e2836b50>"
      ]
     },
     "metadata": {},
     "output_type": "display_data"
    },
    {
     "name": "stdout",
     "output_type": "stream",
     "text": [
      "----- TTCW 14 -----\n"
     ]
    },
    {
     "data": {
      "text/html": [
       "<style type=\"text/css\">\n",
       "</style>\n",
       "<table id=\"T_11eb5\">\n",
       "  <caption>[Elaboration; Character Development] Does each character in the story feel developed at the appropriate complexity level, ensuring that no character feels like they are present simply to satisfy a plot requirement?</caption>\n",
       "  <thead>\n",
       "    <tr>\n",
       "      <th class=\"blank level0\" >&nbsp;</th>\n",
       "      <th id=\"T_11eb5_level0_col0\" class=\"col_heading level0 col0\" >Expert Idx</th>\n",
       "      <th id=\"T_11eb5_level0_col1\" class=\"col_heading level0 col1\" >Verdict</th>\n",
       "      <th id=\"T_11eb5_level0_col2\" class=\"col_heading level0 col2\" >Explanation</th>\n",
       "    </tr>\n",
       "  </thead>\n",
       "  <tbody>\n",
       "    <tr>\n",
       "      <th id=\"T_11eb5_level0_row0\" class=\"row_heading level0 row0\" >0</th>\n",
       "      <td id=\"T_11eb5_row0_col0\" class=\"data row0 col0\" >9</td>\n",
       "      <td id=\"T_11eb5_row0_col1\" class=\"data row0 col1\" >No</td>\n",
       "      <td id=\"T_11eb5_row0_col2\" class=\"data row0 col2\" >Lily is the only character that is developed to any extent, and even then it is unclear why she does...</td>\n",
       "    </tr>\n",
       "    <tr>\n",
       "      <th id=\"T_11eb5_level0_row1\" class=\"row_heading level0 row1\" >1</th>\n",
       "      <td id=\"T_11eb5_row1_col0\" class=\"data row1 col0\" >1</td>\n",
       "      <td id=\"T_11eb5_row1_col1\" class=\"data row1 col1\" >No</td>\n",
       "      <td id=\"T_11eb5_row1_col2\" class=\"data row1 col2\" >The characters are just names. Lily does something fascinating, devastating, but the decision is not...</td>\n",
       "    </tr>\n",
       "    <tr>\n",
       "      <th id=\"T_11eb5_level0_row2\" class=\"row_heading level0 row2\" >2</th>\n",
       "      <td id=\"T_11eb5_row2_col0\" class=\"data row2 col0\" >7</td>\n",
       "      <td id=\"T_11eb5_row2_col1\" class=\"data row2 col1\" >No</td>\n",
       "      <td id=\"T_11eb5_row2_col2\" class=\"data row2 col2\" >With the exception of the fact that her mother died when she was young, Lily's backstory is left out...</td>\n",
       "    </tr>\n",
       "  </tbody>\n",
       "</table>\n"
      ],
      "text/plain": [
       "<pandas.io.formats.style.Styler at 0x7f3899504160>"
      ]
     },
     "metadata": {},
     "output_type": "display_data"
    }
   ],
   "source": [
    "# For the story selected above (Maintenance by GPT4), let's look at all the administered tests. \n",
    "for test in tests:\n",
    "    print(\"----- TTCW %d -----\" % test[\"ttcw_idx\"])\n",
    "    \n",
    "    table = []\n",
    "    for anno in annotations:\n",
    "        if anno[\"story_id\"] == story[\"story_id\"] and test[\"ttcw_idx\"] == anno[\"ttcw_idx\"]:\n",
    "            table.append({\"Expert Idx\": anno[\"expert_idx\"], \"Verdict\": anno[\"binary_verdict\"], \"Explanation\": anno[\"explanation\"][:100]+\"...\"})\n",
    "    title = \"[%s; %s] %s\" % (test[\"torrance_dimension\"], test[\"category\"], test[\"question\"])\n",
    "    display(pd.DataFrame(table).style.set_caption(title))"
   ]
  }
 ],
 "metadata": {
  "kernelspec": {
   "display_name": "base",
   "language": "python",
   "name": "python3"
  },
  "language_info": {
   "codemirror_mode": {
    "name": "ipython",
    "version": 3
   },
   "file_extension": ".py",
   "mimetype": "text/x-python",
   "name": "python",
   "nbconvert_exporter": "python",
   "pygments_lexer": "ipython3",
   "version": "3.9.7"
  },
  "orig_nbformat": 4
 },
 "nbformat": 4,
 "nbformat_minor": 2
}
